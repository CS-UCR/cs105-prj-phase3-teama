{
 "cells": [
  {
   "cell_type": "code",
   "execution_count": 1,
   "metadata": {},
   "outputs": [],
   "source": [
    "from urllib.request import urlopen\n",
    "from bs4 import BeautifulSoup\n",
    "import pandas as pd"
   ]
  },
  {
   "cell_type": "code",
   "execution_count": 2,
   "metadata": {},
   "outputs": [],
   "source": [
    "\n",
    "url = \"https://www.basketball-reference.com/leagues/NBA_2020_standings.html\"\n",
    "\n",
    "html = urlopen(url)\n",
    "\n",
    "soup = BeautifulSoup(html)"
   ]
  },
  {
   "cell_type": "code",
   "execution_count": 7,
   "metadata": {},
   "outputs": [
    {
     "data": {
      "text/plain": [
       "['W', 'L', 'W/L%', 'GB', 'PS/G', 'PA/G', 'SRS']"
      ]
     },
     "execution_count": 7,
     "metadata": {},
     "output_type": "execute_result"
    }
   ],
   "source": [
    "#soup.findAll('tr', limit=2)\n",
    "\n",
    "headers1 = [th.getText() for th in soup.findAll('tr', limit=2)[1].findAll('th')]\n",
    "headers2 = [th.getText() for th in soup.findAll('tr', limit=20)[17].findAll('th')]\n",
    "#headers3 = [th.getText() for th in soup.findAll('tr', limit=50)[34].findAll('th')]\n",
    "#headers4 = [th.getText() for th in soup.findAll('tr', limit=70)[53].findAll('th')]\n",
    "\n",
    "#headers = headers1[0:]\n",
    "headers = headers1[1:]\n",
    "\n",
    "headers"
   ]
  },
  {
   "cell_type": "code",
   "execution_count": 9,
   "metadata": {},
   "outputs": [
    {
     "data": {
      "text/plain": [
       "[['53', '12', '.815', '—', '118.6', '107.4', '10.42'],\n",
       " ['46', '18', '.719', '6.5', '113.0', '106.5', '5.84'],\n",
       " ['42', '21', '.667', '10.0', '113.0', '106.8', '5.68'],\n",
       " ['41', '23', '.641', '11.5', '112.4', '108.9', '2.86'],\n",
       " ['39', '25', '.609', '13.5', '109.3', '107.3', '1.57'],\n",
       " ['38', '26', '.594', '14.5', '109.4', '107.4', '2.04'],\n",
       " ['29', '34', '.460', '23.0', '110.9', '111.6', '-1.37'],\n",
       " ['29', '35', '.453', '23.5', '106.2', '107.2', '-0.93'],\n",
       " ['23', '40', '.365', '29.0', '115.5', '119.7', '-4.95'],\n",
       " ['22', '42', '.344', '30.5', '102.8', '109.8', '-7.20'],\n",
       " ['21', '43', '.328', '31.5', '106.8', '110.0', '-3.86'],\n",
       " ['20', '44', '.313', '32.5', '105.2', '111.8', '-6.56'],\n",
       " ['20', '45', '.308', '33.0', '107.3', '110.6', '-4.08'],\n",
       " ['20', '46', '.303', '33.5', '111.5', '119.5', '-7.53'],\n",
       " ['19', '45', '.297', '33.5', '107.0', '114.9', '-7.56']]"
      ]
     },
     "execution_count": 9,
     "metadata": {},
     "output_type": "execute_result"
    }
   ],
   "source": [
    "rows = soup.findAll('tr')[1:]\n",
    "\n",
    "team_stats = [[td.getText() for td in rows[i].findAll('td')] for i in range(len(rows))]\n",
    "\n",
    "\n",
    "\n",
    "team_stats[1:16]"
   ]
  },
  {
   "cell_type": "code",
   "execution_count": 11,
   "metadata": {},
   "outputs": [
    {
     "data": {
      "text/html": [
       "<div>\n",
       "<style scoped>\n",
       "    .dataframe tbody tr th:only-of-type {\n",
       "        vertical-align: middle;\n",
       "    }\n",
       "\n",
       "    .dataframe tbody tr th {\n",
       "        vertical-align: top;\n",
       "    }\n",
       "\n",
       "    .dataframe thead th {\n",
       "        text-align: right;\n",
       "    }\n",
       "</style>\n",
       "<table border=\"1\" class=\"dataframe\">\n",
       "  <thead>\n",
       "    <tr style=\"text-align: right;\">\n",
       "      <th></th>\n",
       "      <th>W</th>\n",
       "      <th>L</th>\n",
       "      <th>W/L%</th>\n",
       "      <th>GB</th>\n",
       "      <th>PS/G</th>\n",
       "      <th>PA/G</th>\n",
       "      <th>SRS</th>\n",
       "    </tr>\n",
       "  </thead>\n",
       "  <tbody>\n",
       "    <tr>\n",
       "      <td>0</td>\n",
       "      <td>53</td>\n",
       "      <td>12</td>\n",
       "      <td>.815</td>\n",
       "      <td>—</td>\n",
       "      <td>118.6</td>\n",
       "      <td>107.4</td>\n",
       "      <td>10.42</td>\n",
       "    </tr>\n",
       "    <tr>\n",
       "      <td>1</td>\n",
       "      <td>46</td>\n",
       "      <td>18</td>\n",
       "      <td>.719</td>\n",
       "      <td>6.5</td>\n",
       "      <td>113.0</td>\n",
       "      <td>106.5</td>\n",
       "      <td>5.84</td>\n",
       "    </tr>\n",
       "    <tr>\n",
       "      <td>2</td>\n",
       "      <td>42</td>\n",
       "      <td>21</td>\n",
       "      <td>.667</td>\n",
       "      <td>10.0</td>\n",
       "      <td>113.0</td>\n",
       "      <td>106.8</td>\n",
       "      <td>5.68</td>\n",
       "    </tr>\n",
       "    <tr>\n",
       "      <td>3</td>\n",
       "      <td>41</td>\n",
       "      <td>23</td>\n",
       "      <td>.641</td>\n",
       "      <td>11.5</td>\n",
       "      <td>112.4</td>\n",
       "      <td>108.9</td>\n",
       "      <td>2.86</td>\n",
       "    </tr>\n",
       "    <tr>\n",
       "      <td>4</td>\n",
       "      <td>39</td>\n",
       "      <td>25</td>\n",
       "      <td>.609</td>\n",
       "      <td>13.5</td>\n",
       "      <td>109.3</td>\n",
       "      <td>107.3</td>\n",
       "      <td>1.57</td>\n",
       "    </tr>\n",
       "    <tr>\n",
       "      <td>5</td>\n",
       "      <td>38</td>\n",
       "      <td>26</td>\n",
       "      <td>.594</td>\n",
       "      <td>14.5</td>\n",
       "      <td>109.4</td>\n",
       "      <td>107.4</td>\n",
       "      <td>2.04</td>\n",
       "    </tr>\n",
       "    <tr>\n",
       "      <td>6</td>\n",
       "      <td>29</td>\n",
       "      <td>34</td>\n",
       "      <td>.460</td>\n",
       "      <td>23.0</td>\n",
       "      <td>110.9</td>\n",
       "      <td>111.6</td>\n",
       "      <td>-1.37</td>\n",
       "    </tr>\n",
       "    <tr>\n",
       "      <td>7</td>\n",
       "      <td>29</td>\n",
       "      <td>35</td>\n",
       "      <td>.453</td>\n",
       "      <td>23.5</td>\n",
       "      <td>106.2</td>\n",
       "      <td>107.2</td>\n",
       "      <td>-0.93</td>\n",
       "    </tr>\n",
       "    <tr>\n",
       "      <td>8</td>\n",
       "      <td>23</td>\n",
       "      <td>40</td>\n",
       "      <td>.365</td>\n",
       "      <td>29.0</td>\n",
       "      <td>115.5</td>\n",
       "      <td>119.7</td>\n",
       "      <td>-4.95</td>\n",
       "    </tr>\n",
       "    <tr>\n",
       "      <td>9</td>\n",
       "      <td>22</td>\n",
       "      <td>42</td>\n",
       "      <td>.344</td>\n",
       "      <td>30.5</td>\n",
       "      <td>102.8</td>\n",
       "      <td>109.8</td>\n",
       "      <td>-7.20</td>\n",
       "    </tr>\n",
       "    <tr>\n",
       "      <td>10</td>\n",
       "      <td>21</td>\n",
       "      <td>43</td>\n",
       "      <td>.328</td>\n",
       "      <td>31.5</td>\n",
       "      <td>106.8</td>\n",
       "      <td>110.0</td>\n",
       "      <td>-3.86</td>\n",
       "    </tr>\n",
       "    <tr>\n",
       "      <td>11</td>\n",
       "      <td>20</td>\n",
       "      <td>44</td>\n",
       "      <td>.313</td>\n",
       "      <td>32.5</td>\n",
       "      <td>105.2</td>\n",
       "      <td>111.8</td>\n",
       "      <td>-6.56</td>\n",
       "    </tr>\n",
       "    <tr>\n",
       "      <td>12</td>\n",
       "      <td>20</td>\n",
       "      <td>45</td>\n",
       "      <td>.308</td>\n",
       "      <td>33.0</td>\n",
       "      <td>107.3</td>\n",
       "      <td>110.6</td>\n",
       "      <td>-4.08</td>\n",
       "    </tr>\n",
       "    <tr>\n",
       "      <td>13</td>\n",
       "      <td>20</td>\n",
       "      <td>46</td>\n",
       "      <td>.303</td>\n",
       "      <td>33.5</td>\n",
       "      <td>111.5</td>\n",
       "      <td>119.5</td>\n",
       "      <td>-7.53</td>\n",
       "    </tr>\n",
       "    <tr>\n",
       "      <td>14</td>\n",
       "      <td>19</td>\n",
       "      <td>45</td>\n",
       "      <td>.297</td>\n",
       "      <td>33.5</td>\n",
       "      <td>107.0</td>\n",
       "      <td>114.9</td>\n",
       "      <td>-7.56</td>\n",
       "    </tr>\n",
       "  </tbody>\n",
       "</table>\n",
       "</div>"
      ],
      "text/plain": [
       "     W   L  W/L%    GB   PS/G   PA/G    SRS\n",
       "0   53  12  .815     —  118.6  107.4  10.42\n",
       "1   46  18  .719   6.5  113.0  106.5   5.84\n",
       "2   42  21  .667  10.0  113.0  106.8   5.68\n",
       "3   41  23  .641  11.5  112.4  108.9   2.86\n",
       "4   39  25  .609  13.5  109.3  107.3   1.57\n",
       "5   38  26  .594  14.5  109.4  107.4   2.04\n",
       "6   29  34  .460  23.0  110.9  111.6  -1.37\n",
       "7   29  35  .453  23.5  106.2  107.2  -0.93\n",
       "8   23  40  .365  29.0  115.5  119.7  -4.95\n",
       "9   22  42  .344  30.5  102.8  109.8  -7.20\n",
       "10  21  43  .328  31.5  106.8  110.0  -3.86\n",
       "11  20  44  .313  32.5  105.2  111.8  -6.56\n",
       "12  20  45  .308  33.0  107.3  110.6  -4.08\n",
       "13  20  46  .303  33.5  111.5  119.5  -7.53\n",
       "14  19  45  .297  33.5  107.0  114.9  -7.56"
      ]
     },
     "execution_count": 11,
     "metadata": {},
     "output_type": "execute_result"
    }
   ],
   "source": [
    "df_east = pd.DataFrame(team_stats[1:16], columns = headers)\n",
    "df_east"
   ]
  },
  {
   "cell_type": "code",
   "execution_count": 84,
   "metadata": {},
   "outputs": [
    {
     "data": {
      "text/plain": [
       "<matplotlib.axes._subplots.AxesSubplot at 0x11a96eed0>"
      ]
     },
     "execution_count": 84,
     "metadata": {},
     "output_type": "execute_result"
    },
    {
     "data": {
      "image/png": "[encoded data removed]",
      "text/plain": [
       "<Figure size 432x288 with 1 Axes>"
      ]
     },
     "metadata": {
      "needs_background": "light"
     },
     "output_type": "display_data"
    }
   ],
   "source": [
    "%matplotlib inline\n",
    "import matplotlib.pyplot as plt\n",
    "\n",
    "df['W'].astype(str).astype(int).plot()\n"
   ]
  },
  {
   "cell_type": "code",
   "execution_count": null,
   "metadata": {},
   "outputs": [],
   "source": []
  }
 ],
 "metadata": {
  "kernelspec": {
   "display_name": "Python 3",
   "language": "python",
   "name": "python3"
  },
  "language_info": {
   "codemirror_mode": {
    "name": "ipython",
    "version": 3
   },
   "file_extension": ".py",
   "mimetype": "text/x-python",
   "name": "python",
   "nbconvert_exporter": "python",
   "pygments_lexer": "ipython3",
   "version": "3.7.4"
  }
 },
 "nbformat": 4,
 "nbformat_minor": 4
}
